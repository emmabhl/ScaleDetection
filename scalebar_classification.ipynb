{
 "cells": [
  {
   "cell_type": "code",
   "execution_count": 2,
   "id": "1f964e19",
   "metadata": {},
   "outputs": [
    {
     "name": "stdout",
     "output_type": "stream",
     "text": [
      "Loaded precomputed embeddings for graduation_middleunit\n",
      "Loaded precomputed embeddings for ruler_photo\n",
      "BIOUG85754-C04.a85fdd1e.jpg -> {'predicted_category': 'normal', 'scores': {'graduation_middleunit': 0.13295744359493256, 'ruler_photo': 0.22814205288887024}}\n",
      "BIOUG85754-A12.3b8e9942.jpg -> {'predicted_category': 'ruler_photo', 'scores': {'graduation_middleunit': 0.15291687846183777, 'ruler_photo': 0.317354679107666}}\n",
      "BIOUG84663-G11.cbc0e20f.jpg -> {'predicted_category': 'normal', 'scores': {'graduation_middleunit': 0.23952139914035797, 'ruler_photo': 0.21411442756652832}}\n",
      "NSWHA1668-23.jpg -> {'predicted_category': 'normal', 'scores': {'graduation_middleunit': 0.08870142698287964, 'ruler_photo': 0.1175946295261383}}\n",
      "BIOUG84644-D08.81cc1824.jpg -> {'predicted_category': 'normal', 'scores': {'graduation_middleunit': 0.22979721426963806, 'ruler_photo': 0.19500499963760376}}\n",
      "BIOUG85755-H07.7b911bc5.jpg -> {'predicted_category': 'ruler_photo', 'scores': {'graduation_middleunit': 0.22138279676437378, 'ruler_photo': 0.3485749363899231}}\n",
      "BIOUG84663-G11.d7871f7e.jpg -> {'predicted_category': 'normal', 'scores': {'graduation_middleunit': 0.2432747781276703, 'ruler_photo': 0.23273125290870667}}\n",
      "BIOUG84663-G11.e9b1be6c.jpg -> {'predicted_category': 'normal', 'scores': {'graduation_middleunit': 0.1759120374917984, 'ruler_photo': 0.21791113913059235}}\n",
      "BIOUG84663-G11.9b123161.jpg -> {'predicted_category': 'normal', 'scores': {'graduation_middleunit': 0.07609406113624573, 'ruler_photo': 0.08608870208263397}}\n",
      "BIOUG84663-G11.dc08a39f.jpg -> {'predicted_category': 'normal', 'scores': {'graduation_middleunit': 0.05403369665145874, 'ruler_photo': 0.054132215678691864}}\n",
      "NSWHA1614-23.jpg -> {'predicted_category': 'normal', 'scores': {'graduation_middleunit': 0.08939770609140396, 'ruler_photo': 0.1291356086730957}}\n",
      "BIOUG84663-G11.47cc2955.jpg -> {'predicted_category': 'normal', 'scores': {'graduation_middleunit': 0.17328400909900665, 'ruler_photo': 0.19059348106384277}}\n"
     ]
    }
   ],
   "source": [
    "import os\n",
    "from pathlib import Path\n",
    "from src.clip_classifier import ScaleBarClassifier\n",
    "\n",
    "# 1. Initialize the model\n",
    "clf = ScaleBarClassifier()\n",
    "\n",
    "# 2. Load or compute embeddings from your reference folders\n",
    "clf.load_or_compute_known_embeddings(\"atypical_examples\")\n",
    "\n",
    "# 3. Classify a new image (e.g. extracted bottom region from your full microscope image)\n",
    "for filename in os.listdir(\"data/classifier_test\"):\n",
    "    if filename.endswith(\".png\") or filename.endswith(\".jpg\"):\n",
    "        image_path = Path(\"data/classifier_test\") / filename\n",
    "        result = clf.classify_image(str(image_path))\n",
    "        print(f\"{filename} -> {result}\")"
   ]
  },
  {
   "cell_type": "code",
   "execution_count": null,
   "id": "fa2da7f6",
   "metadata": {},
   "outputs": [],
   "source": []
  }
 ],
 "metadata": {
  "kernelspec": {
   "display_name": "scale",
   "language": "python",
   "name": "python3"
  },
  "language_info": {
   "codemirror_mode": {
    "name": "ipython",
    "version": 3
   },
   "file_extension": ".py",
   "mimetype": "text/x-python",
   "name": "python",
   "nbconvert_exporter": "python",
   "pygments_lexer": "ipython3",
   "version": "3.11.13"
  }
 },
 "nbformat": 4,
 "nbformat_minor": 5
}
